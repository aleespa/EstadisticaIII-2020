{
 "cells": [
  {
   "cell_type": "code",
   "execution_count": 8,
   "metadata": {},
   "outputs": [],
   "source": [
    "import numpy as np\n",
    "import matplotlib.pylab as plt\n",
    "%matplotlib inline"
   ]
  },
  {
   "cell_type": "code",
   "execution_count": 90,
   "metadata": {},
   "outputs": [],
   "source": [
    "X = np.random.normal(0,1,20)"
   ]
  },
  {
   "cell_type": "code",
   "execution_count": 91,
   "metadata": {},
   "outputs": [
    {
     "data": {
      "text/plain": [
       "array([ 0.7469355 , -0.68079387,  0.61888085,  1.94189884, -0.24674194,\n",
       "       -0.87177786,  0.94400165, -1.10136129, -0.5951785 ,  1.09272805,\n",
       "        0.27461551, -1.03338845,  1.16739295,  0.49596993, -0.15181333,\n",
       "        0.91029857, -0.47235756, -0.67640366, -1.18799991,  0.28732728])"
      ]
     },
     "execution_count": 91,
     "metadata": {},
     "output_type": "execute_result"
    }
   ],
   "source": [
    "X"
   ]
  },
  {
   "cell_type": "code",
   "execution_count": 94,
   "metadata": {},
   "outputs": [],
   "source": [
    "T = lambda x : np.median(x)"
   ]
  },
  {
   "cell_type": "code",
   "execution_count": 95,
   "metadata": {},
   "outputs": [
    {
     "data": {
      "text/plain": [
       "0.06140108937222977"
      ]
     },
     "execution_count": 95,
     "metadata": {},
     "output_type": "execute_result"
    }
   ],
   "source": [
    "T(X)"
   ]
  },
  {
   "cell_type": "code",
   "execution_count": 96,
   "metadata": {},
   "outputs": [],
   "source": [
    "n=20\n",
    "def Fn(x):\n",
    "    return((1/n)*sum([1*(X[i]<=x) for i in range(n)]))"
   ]
  },
  {
   "cell_type": "code",
   "execution_count": 97,
   "metadata": {},
   "outputs": [
    {
     "data": {
      "text/plain": [
       "[<matplotlib.lines.Line2D at 0x15b69a02e80>]"
      ]
     },
     "execution_count": 97,
     "metadata": {},
     "output_type": "execute_result"
    },
    {
     "data": {
      "image/png": "[encoded data removed]",
      "text/plain": [
       "<Figure size 432x288 with 1 Axes>"
      ]
     },
     "metadata": {
      "needs_background": "light"
     },
     "output_type": "display_data"
    }
   ],
   "source": [
    "plt.plot(np.linspace(min(X),max(X)),[Fn(x) for x in np.linspace(min(X),max(X))])"
   ]
  },
  {
   "cell_type": "code",
   "execution_count": 98,
   "metadata": {},
   "outputs": [],
   "source": [
    "def Q(p):\n",
    "    return(min([x for x in X if Fn(x)>p]))"
   ]
  },
  {
   "cell_type": "code",
   "execution_count": 99,
   "metadata": {},
   "outputs": [],
   "source": [
    "B = 300\n",
    "T_b = []\n",
    "for b in range(B):\n",
    "    T_b.append(T(np.array([Q(np.random.uniform(0,1)) for _ in range(n)])))"
   ]
  },
  {
   "cell_type": "code",
   "execution_count": 105,
   "metadata": {},
   "outputs": [
    {
     "data": {
      "text/plain": [
       "(array([0.00333333, 0.02666667, 0.05      , 0.09666667, 0.12      ,\n",
       "        0.17      , 0.22333333, 0.37666667, 0.38333333, 0.43333333,\n",
       "        0.54333333, 0.55333333, 0.56      , 0.75      , 0.82333333,\n",
       "        0.88666667, 0.92333333, 0.95      , 0.98      , 1.        ]),\n",
       " array([-0.77628587, -0.69604072, -0.61579558, -0.53555043, -0.45530529,\n",
       "        -0.37506014, -0.294815  , -0.21456985, -0.13432471, -0.05407956,\n",
       "         0.02616558,  0.10641073,  0.18665587,  0.26690102,  0.34714616,\n",
       "         0.42739131,  0.50763645,  0.5878816 ,  0.66812674,  0.74837189,\n",
       "         0.82861703]),\n",
       " <a list of 20 Patch objects>)"
      ]
     },
     "execution_count": 105,
     "metadata": {},
     "output_type": "execute_result"
    },
    {
     "data": {
      "image/png": "[encoded data removed]",
      "text/plain": [
       "<Figure size 432x288 with 1 Axes>"
      ]
     },
     "metadata": {
      "needs_background": "light"
     },
     "output_type": "display_data"
    }
   ],
   "source": [
    "plt.hist(T_b,bins=20,cumulative=True,density=True)"
   ]
  },
  {
   "cell_type": "code",
   "execution_count": 101,
   "metadata": {},
   "outputs": [
    {
     "data": {
      "text/plain": [
       "0.13692733839353527"
      ]
     },
     "execution_count": 101,
     "metadata": {},
     "output_type": "execute_result"
    }
   ],
   "source": [
    "np.var(T_b)"
   ]
  },
  {
   "cell_type": "code",
   "execution_count": 103,
   "metadata": {},
   "outputs": [
    {
     "data": {
      "text/plain": [
       "0.13692733839353532"
      ]
     },
     "execution_count": 103,
     "metadata": {},
     "output_type": "execute_result"
    }
   ],
   "source": [
    "(1/B)*sum([(T_b[b]-(1/B)*sum([T_b[r] for r in range(B)]))**2 for b in range(B)])"
   ]
  }
 ],
 "metadata": {
  "kernelspec": {
   "display_name": "Python 3",
   "language": "python",
   "name": "python3"
  },
  "language_info": {
   "codemirror_mode": {
    "name": "ipython",
    "version": 3
   },
   "file_extension": ".py",
   "mimetype": "text/x-python",
   "name": "python",
   "nbconvert_exporter": "python",
   "pygments_lexer": "ipython3",
   "version": "3.7.3"
  }
 },
 "nbformat": 4,
 "nbformat_minor": 2
}
