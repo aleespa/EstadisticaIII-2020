{
 "cells": [
  {
   "cell_type": "markdown",
   "metadata": {},
   "source": [
    "La idea es comparar diferentes intervalos de confianza para el parametro $p$ \n",
    "\n",
    "### 1.- $\\{ p:|\\frac{\\hat{p}-p}{\\sqrt{p(1-p)/n}}|\\le z_{\\alpha/2}\\}$\n",
    "\n",
    "### 2.- $\\{p:|\\frac{\\hat{p}-p}{\\sqrt{\\hat{p}(1-\\hat{p})/n}}|\\le z_{\\alpha/2}\\}$\n",
    "\n",
    "### 3.- $\\{p:-2\\log\\left(\\frac{p^y(1-p)^{n-y}}{\\hat{p}^y(1-\\hat{p})^{n-y}}\\right)\\le \\chi_{\\alpha}\\}$"
   ]
  },
  {
   "cell_type": "code",
   "execution_count": 1,
   "metadata": {},
   "outputs": [],
   "source": [
    "import numpy as np\n",
    "import scipy.stats as st\n",
    "import matplotlib.pylab as plt\n",
    "import numpy as np\n",
    "from math import sqrt,log\n",
    "%matplotlib inline"
   ]
  },
  {
   "cell_type": "code",
   "execution_count": 2,
   "metadata": {},
   "outputs": [],
   "source": [
    "z_a = -st.norm.ppf(0.05)\n",
    "xi_a = st.chi.ppf(q=0.99,df=1)"
   ]
  },
  {
   "cell_type": "code",
   "execution_count": 25,
   "metadata": {},
   "outputs": [
    {
     "data": {
      "image/png": "[encoded data removed]",
      "text/plain": [
       "<Figure size 1008x576 with 1 Axes>"
      ]
     },
     "metadata": {
      "needs_background": "light"
     },
     "output_type": "display_data"
    }
   ],
   "source": [
    "plt.figure(figsize=(14,8))\n",
    "for p,i in zip(np.linspace(0.1,0.9,9),range(10)):    \n",
    "    n =30\n",
    "    X = np.random.choice([0,1],p=[1-p,p],size=n)\n",
    "    p_hat = X.mean()\n",
    "    X_sum = X.sum()\n",
    "    I_1=[p_0 for p_0 in np.linspace(0.001,0.9999,100) if abs((p_hat-p_0)/sqrt(p_0*(1-p_0)/n))<z_a]\n",
    "    I_2=[p_0 for p_0 in np.linspace(0.001,0.9999,100) if abs((p_hat-p_0)/sqrt(p_hat*(1-p_hat)/n))<z_a]\n",
    "    I_3=[p_0 for p_0 in np.linspace(0.001,0.9999,100) if -2*log(((p_0**X_sum)*(1-p_0)**(n-X_sum))/((p_hat**X_sum)*(1-p_hat)**(n-X_sum))) < xi_a]\n",
    "    plt.plot([min(I_1),max(I_1)],[i+1/3,i+1/3],color='red',linestyle='--',lw=3)\n",
    "    plt.plot([min(I_2),max(I_2)],[i+2/3,i+2/3],color='blue',linestyle='dotted',lw=3)\n",
    "    plt.plot([min(I_3),max(I_3)],[i+3/3,i+3/3],color='green',lw=3)"
   ]
  }
 ],
 "metadata": {
  "kernelspec": {
   "display_name": "Python 3",
   "language": "python",
   "name": "python3"
  },
  "language_info": {
   "codemirror_mode": {
    "name": "ipython",
    "version": 3
   },
   "file_extension": ".py",
   "mimetype": "text/x-python",
   "name": "python",
   "nbconvert_exporter": "python",
   "pygments_lexer": "ipython3",
   "version": "3.7.5"
  }
 },
 "nbformat": 4,
 "nbformat_minor": 2
}
